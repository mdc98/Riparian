{
  "nbformat": 4,
  "nbformat_minor": 0,
  "metadata": {
    "colab": {
      "provenance": [],
      "collapsed_sections": [],
      "authorship_tag": "ABX9TyPp+0LAovsCfe966C5eGiIm",
      "include_colab_link": true
    },
    "kernelspec": {
      "name": "python3",
      "display_name": "Python 3"
    },
    "language_info": {
      "name": "python"
    }
  },
  "cells": [
    {
      "cell_type": "markdown",
      "metadata": {
        "id": "view-in-github",
        "colab_type": "text"
      },
      "source": [
        "<a href=\"https://colab.research.google.com/github/mdc98/Riparian/blob/main/QC.ipynb\" target=\"_parent\"><img src=\"https://colab.research.google.com/assets/colab-badge.svg\" alt=\"Open In Colab\"/></a>"
      ]
    },
    {
      "cell_type": "code",
      "execution_count": 1,
      "metadata": {
        "colab": {
          "base_uri": "https://localhost:8080/"
        },
        "id": "gWgoO-9F-A6a",
        "outputId": "add0c531-70d4-41ea-c017-1c0c6e38b330"
      },
      "outputs": [
        {
          "output_type": "stream",
          "name": "stdout",
          "text": [
            "/bin/bash: -c: line 0: syntax error near unexpected token `('\n",
            "/bin/bash: -c: line 0: ` wget https://repo.anaconda.com/miniconda/Miniconda3-py37_4.8.2-Linux-x86_64.sh ! chmod +x Miniconda3-py37_4.8.2-Linux-x86_64.sh ! bash ./Miniconda3-py37_4.8.2-Linux-x86_64.sh -b -f -p /usr/local import sys sys.path.append('/usr/local/lib/python3.7/site-packages/')'\n"
          ]
        }
      ],
      "source": [
        "! wget https://repo.anaconda.com/miniconda/Miniconda3-py37_4.8.2-Linux-x86_64.sh ! chmod +x Miniconda3-py37_4.8.2-Linux-x86_64.sh ! bash ./Miniconda3-py37_4.8.2-Linux-x86_64.sh -b -f -p /usr/local import sys sys.path.append('/usr/local/lib/python3.7/site-packages/')"
      ]
    },
    {
      "cell_type": "code",
      "source": [
        "# INSTALL PACKAGES: \n",
        "# FastQC is a program designed to spot potential problems in high throughput sequencing datasets. \n",
        "!conda install -c bioconda fastqc -y\n",
        "# Multiqc can aggregate and summarize all the QC data and alignment log data in one file \n",
        "!pip install multiqc\n",
        "# Trimmomatic: A flexible read trimming tool for Illumina NGS data \n",
        "! conda install -c bioconda trimmomatic -y\n",
        "# Kallisto is a program for quantifying abundances of transcripts from RNA-Seq data, or more generally of target sequences using high-throughput sequencing reads \n",
        "! conda install -c bioconda kallisto -y"
      ],
      "metadata": {
        "colab": {
          "base_uri": "https://localhost:8080/"
        },
        "id": "D16hvyaR-RqM",
        "outputId": "23f516db-ea0a-4e95-d988-979fd1d0fa44"
      },
      "execution_count": 2,
      "outputs": [
        {
          "output_type": "stream",
          "name": "stdout",
          "text": [
            "/bin/bash: conda: command not found\n",
            "Looking in indexes: https://pypi.org/simple, https://us-python.pkg.dev/colab-wheels/public/simple/\n",
            "Collecting multiqc\n",
            "  Downloading multiqc-1.13-py3-none-any.whl (1.2 MB)\n",
            "\u001b[K     |████████████████████████████████| 1.2 MB 15.2 MB/s \n",
            "\u001b[?25hCollecting lzstring\n",
            "  Downloading lzstring-1.0.4.tar.gz (4.3 kB)\n",
            "Requirement already satisfied: jinja2>=2.9 in /usr/local/lib/python3.7/dist-packages (from multiqc) (2.11.3)\n",
            "Requirement already satisfied: future>0.14.0 in /usr/local/lib/python3.7/dist-packages (from multiqc) (0.16.0)\n",
            "Collecting rich-click\n",
            "  Downloading rich_click-1.5.2-py3-none-any.whl (20 kB)\n",
            "Collecting spectra>=0.0.10\n",
            "  Downloading spectra-0.0.11.tar.gz (18 kB)\n",
            "Collecting coloredlogs\n",
            "  Downloading coloredlogs-15.0.1-py2.py3-none-any.whl (46 kB)\n",
            "\u001b[K     |████████████████████████████████| 46 kB 3.9 MB/s \n",
            "\u001b[?25hRequirement already satisfied: click in /usr/local/lib/python3.7/dist-packages (from multiqc) (7.1.2)\n",
            "Requirement already satisfied: matplotlib>=2.1.1 in /usr/local/lib/python3.7/dist-packages (from multiqc) (3.2.2)\n",
            "Requirement already satisfied: markdown in /usr/local/lib/python3.7/dist-packages (from multiqc) (3.4.1)\n",
            "Collecting rich>=10\n",
            "  Downloading rich-12.5.1-py3-none-any.whl (235 kB)\n",
            "\u001b[K     |████████████████████████████████| 235 kB 70.2 MB/s \n",
            "\u001b[?25hCollecting simplejson\n",
            "  Downloading simplejson-3.17.6-cp37-cp37m-manylinux_2_5_x86_64.manylinux1_x86_64.manylinux_2_12_x86_64.manylinux2010_x86_64.whl (130 kB)\n",
            "\u001b[K     |████████████████████████████████| 130 kB 72.1 MB/s \n",
            "\u001b[?25hRequirement already satisfied: numpy in /usr/local/lib/python3.7/dist-packages (from multiqc) (1.21.6)\n",
            "Requirement already satisfied: requests in /usr/local/lib/python3.7/dist-packages (from multiqc) (2.23.0)\n",
            "Requirement already satisfied: networkx>=2.5.1 in /usr/local/lib/python3.7/dist-packages (from multiqc) (2.6.3)\n",
            "Requirement already satisfied: pyyaml>=4 in /usr/local/lib/python3.7/dist-packages (from multiqc) (6.0)\n",
            "Requirement already satisfied: MarkupSafe>=0.23 in /usr/local/lib/python3.7/dist-packages (from jinja2>=2.9->multiqc) (2.0.1)\n",
            "Requirement already satisfied: cycler>=0.10 in /usr/local/lib/python3.7/dist-packages (from matplotlib>=2.1.1->multiqc) (0.11.0)\n",
            "Requirement already satisfied: python-dateutil>=2.1 in /usr/local/lib/python3.7/dist-packages (from matplotlib>=2.1.1->multiqc) (2.8.2)\n",
            "Requirement already satisfied: kiwisolver>=1.0.1 in /usr/local/lib/python3.7/dist-packages (from matplotlib>=2.1.1->multiqc) (1.4.4)\n",
            "Requirement already satisfied: pyparsing!=2.0.4,!=2.1.2,!=2.1.6,>=2.0.1 in /usr/local/lib/python3.7/dist-packages (from matplotlib>=2.1.1->multiqc) (3.0.9)\n",
            "Requirement already satisfied: typing-extensions in /usr/local/lib/python3.7/dist-packages (from kiwisolver>=1.0.1->matplotlib>=2.1.1->multiqc) (4.1.1)\n",
            "Requirement already satisfied: six>=1.5 in /usr/local/lib/python3.7/dist-packages (from python-dateutil>=2.1->matplotlib>=2.1.1->multiqc) (1.15.0)\n",
            "Collecting commonmark<0.10.0,>=0.9.0\n",
            "  Downloading commonmark-0.9.1-py2.py3-none-any.whl (51 kB)\n",
            "\u001b[K     |████████████████████████████████| 51 kB 7.3 MB/s \n",
            "\u001b[?25hRequirement already satisfied: pygments<3.0.0,>=2.6.0 in /usr/local/lib/python3.7/dist-packages (from rich>=10->multiqc) (2.6.1)\n",
            "Collecting colormath>=3.0.0\n",
            "  Downloading colormath-3.0.0.tar.gz (39 kB)\n",
            "Collecting humanfriendly>=9.1\n",
            "  Downloading humanfriendly-10.0-py2.py3-none-any.whl (86 kB)\n",
            "\u001b[K     |████████████████████████████████| 86 kB 7.0 MB/s \n",
            "\u001b[?25hRequirement already satisfied: importlib-metadata>=4.4 in /usr/local/lib/python3.7/dist-packages (from markdown->multiqc) (4.12.0)\n",
            "Requirement already satisfied: zipp>=0.5 in /usr/local/lib/python3.7/dist-packages (from importlib-metadata>=4.4->markdown->multiqc) (3.8.1)\n",
            "Requirement already satisfied: chardet<4,>=3.0.2 in /usr/local/lib/python3.7/dist-packages (from requests->multiqc) (3.0.4)\n",
            "Requirement already satisfied: certifi>=2017.4.17 in /usr/local/lib/python3.7/dist-packages (from requests->multiqc) (2022.6.15)\n",
            "Requirement already satisfied: urllib3!=1.25.0,!=1.25.1,<1.26,>=1.21.1 in /usr/local/lib/python3.7/dist-packages (from requests->multiqc) (1.24.3)\n",
            "Requirement already satisfied: idna<3,>=2.5 in /usr/local/lib/python3.7/dist-packages (from requests->multiqc) (2.10)\n",
            "Building wheels for collected packages: spectra, colormath, lzstring\n",
            "  Building wheel for spectra (setup.py) ... \u001b[?25l\u001b[?25hdone\n",
            "  Created wheel for spectra: filename=spectra-0.0.11-py3-none-any.whl size=17488 sha256=cb88731cc2d79c3c06ef4a3e7a08b3cf003f5ab0acffebe8a0546936a1d360d3\n",
            "  Stored in directory: /root/.cache/pip/wheels/e3/c8/a4/5a566fafff827fcb5741589e42002686bb29990fbc7b262b5e\n",
            "  Building wheel for colormath (setup.py) ... \u001b[?25l\u001b[?25hdone\n",
            "  Created wheel for colormath: filename=colormath-3.0.0-py3-none-any.whl size=39408 sha256=62b1e3e5e0e3d56e13a1b137ae49361f481de952d8faca17549222e1f06841c9\n",
            "  Stored in directory: /root/.cache/pip/wheels/1a/d7/a7/458a4632ccc8bfe436f5e9db9fef1aa84e5d243a1b4b4c7b59\n",
            "  Building wheel for lzstring (setup.py) ... \u001b[?25l\u001b[?25hdone\n",
            "  Created wheel for lzstring: filename=lzstring-1.0.4-py2.py3-none-any.whl size=4590 sha256=8e14d367eb615474d147441782a6c60dcef806920893d9b08d4e745259f3f9ba\n",
            "  Stored in directory: /root/.cache/pip/wheels/f1/e0/9f/2d1e57842b9e3a9f030519f6ea5e55a21ba7d4f5bcbb4ef578\n",
            "Successfully built spectra colormath lzstring\n",
            "Installing collected packages: commonmark, rich, humanfriendly, colormath, spectra, simplejson, rich-click, lzstring, coloredlogs, multiqc\n",
            "Successfully installed coloredlogs-15.0.1 colormath-3.0.0 commonmark-0.9.1 humanfriendly-10.0 lzstring-1.0.4 multiqc-1.13 rich-12.5.1 rich-click-1.5.2 simplejson-3.17.6 spectra-0.0.11\n",
            "/bin/bash: conda: command not found\n",
            "/bin/bash: conda: command not found\n"
          ]
        }
      ]
    },
    {
      "cell_type": "code",
      "source": [
        "from google.colab import drive\n",
        "drive.mount('/content/gdrive')\n",
        "\n",
        "!cp '/content/gdrive/My Drive/Riparian_RNASeqData/Output_fastq_Run1/Rtx1_S1_R1_001.fastq.gz' Rtx1_S1_R1_001.fastq.gz"
      ],
      "metadata": {
        "colab": {
          "base_uri": "https://localhost:8080/"
        },
        "id": "2KjoD8xY-o2s",
        "outputId": "e038e0ca-4f70-4686-846c-0ab7ec4a78bd"
      },
      "execution_count": 23,
      "outputs": [
        {
          "output_type": "stream",
          "name": "stdout",
          "text": [
            "Drive already mounted at /content/gdrive; to attempt to forcibly remount, call drive.mount(\"/content/gdrive\", force_remount=True).\n"
          ]
        }
      ]
    },
    {
      "cell_type": "code",
      "source": [
        "%%bash\n",
        "zcat Rtx1_S1_R1_001.fastq.gz | head"
      ],
      "metadata": {
        "colab": {
          "base_uri": "https://localhost:8080/"
        },
        "id": "Y4eELTBZBICC",
        "outputId": "1040fb42-4a18-4728-80ae-b9a39b4d13cf"
      },
      "execution_count": 24,
      "outputs": [
        {
          "output_type": "stream",
          "name": "stdout",
          "text": [
            "@NB500942:311:HLGJNBGXM:1:11101:11769:1052 1:N:0:ACGCTTCT+GACTTAGG\n",
            "GTCAANGTGCACAGCTTCCCCACACTCAAGTTCTTTCCTGCCAGTGCCGACAGGACGGTCATCGATTACAACGGG\n",
            "+\n",
            "AAAAA#6EEAEEEEEEE/E/EEEAEEEEE6A/E<EE<E/<E<EAE//</EEEA6EE66AEEE/EEEEEAEE</6A\n",
            "@NB500942:311:HLGJNBGXM:1:11101:20136:1054 1:N:0:ACGCTTCT+GACTTAGG\n",
            "GTGGANATGGCGAGGGTCACTGGCGTGCCCCTCAGCTACCTGCTCAGTCGTGGCCAGCAGGTCAAGGTCGTATCC\n",
            "+\n",
            "AAAAA#EEEEEEAEEEEEEEEEEEEEEEEEEEEEEEEEEEEEEEEEEEEEEEEEEAEEEEEEEEEEEEEEEEEEE\n",
            "@NB500942:311:HLGJNBGXM:1:11101:10051:1055 1:N:0:ACGCTTCT+GACTTAGG\n",
            "CCGCANGTTTGCATTTCAGCAGTCAGCTTAATTCCATTCAAGTTATTGTTCTGTGCCAAGTCCTTCTTGCTCTCA\n"
          ]
        }
      ]
    },
    {
      "cell_type": "code",
      "source": [
        "%%bash\n",
        "zcat Rtx1_S1_R1_001.fastq.gz | wc -l"
      ],
      "metadata": {
        "colab": {
          "base_uri": "https://localhost:8080/"
        },
        "id": "BcGe30mhG6sh",
        "outputId": "051c6313-bf10-4df7-d7cc-855219fb353b"
      },
      "execution_count": 25,
      "outputs": [
        {
          "output_type": "stream",
          "name": "stdout",
          "text": [
            "99755100\n"
          ]
        }
      ]
    },
    {
      "cell_type": "code",
      "source": [
        "99755100 / 4 "
      ],
      "metadata": {
        "colab": {
          "base_uri": "https://localhost:8080/"
        },
        "id": "D6-VNuXCIJgn",
        "outputId": "f1d90758-1124-4e7c-f7ee-98655a8566e0"
      },
      "execution_count": 26,
      "outputs": [
        {
          "output_type": "execute_result",
          "data": {
            "text/plain": [
              "24938775.0"
            ]
          },
          "metadata": {},
          "execution_count": 26
        }
      ]
    },
    {
      "cell_type": "code",
      "source": [
        "!cp '/content/gdrive/My Drive/Riparian_RNASeqData/Output_fastq_Run1/Rtx1_S1_R2_001.fastq.gz' Rtx1_S1_R2_001.fastq.gz"
      ],
      "metadata": {
        "id": "oWE2nXhfMRU8"
      },
      "execution_count": 27,
      "outputs": []
    },
    {
      "cell_type": "code",
      "source": [
        "%%bash\n",
        "zcat Rtx1_S1_R2_001.fastq.gz | wc -l"
      ],
      "metadata": {
        "colab": {
          "base_uri": "https://localhost:8080/"
        },
        "id": "wv_YvFb3MagL",
        "outputId": "5000611d-f257-4bb0-a55e-5357c91a7d20"
      },
      "execution_count": 28,
      "outputs": [
        {
          "output_type": "stream",
          "name": "stdout",
          "text": [
            "99755100\n"
          ]
        }
      ]
    },
    {
      "cell_type": "code",
      "source": [],
      "metadata": {
        "id": "h3l6H0GvbMuq"
      },
      "execution_count": null,
      "outputs": []
    },
    {
      "cell_type": "code",
      "source": [
        "!cp '/content/gdrive/My Drive/Riparian_RNASeqData/Output_fastq_Run1/Rtx2_S2_R1_001.fastq.gz' Rtx2_S2_R1_001.fastq.gz\n",
        "!cp '/content/gdrive/My Drive/Riparian_RNASeqData/Output_fastq_Run1/Rtx2_S2_R2_001.fastq.gz' Rtx2_S2_R2_001.fastq.gz\n",
        "!cp '/content/gdrive/My Drive/Riparian_RNASeqData/Output_fastq_Run1/Rtx3_S3_R1_001.fastq.gz' Rtx3_S3_R1_001.fastq.gz\n",
        "!cp '/content/gdrive/My Drive/Riparian_RNASeqData/Output_fastq_Run1/Rtx3_S3_R2_001.fastq.gz' Rtx3_S3_R2_001.fastq.gz\n",
        "!cp '/content/gdrive/My Drive/Riparian_RNASeqData/Output_fastq_Run1/Rtx4_S4_R1_001.fastq.gz' Rtx4_S4_R1_001.fastq.gz\n",
        "!cp '/content/gdrive/My Drive/Riparian_RNASeqData/Output_fastq_Run1/Rtx4_S4_R2_001.fastq.gz' Rtx4_S4_R2_001.fastq.gz\n",
        "!cp '/content/gdrive/My Drive/Riparian_RNASeqData/Output_fastq_Run1/Rtx5_S5_R1_001.fastq.gz' Rtx5_S5_R1_001.fastq.gz\n",
        "!cp '/content/gdrive/My Drive/Riparian_RNASeqData/Output_fastq_Run1/Rtx5_S5_R2_001.fastq.gz' Rtx5_S5_R2_001.fastq.gz\n",
        "!cp '/content/gdrive/My Drive/Riparian_RNASeqData/Output_fastq_Run1/Rtx6_S6_R1_001.fastq.gz' Rtx6_S6_R1_001.fastq.gz\n",
        "!cp '/content/gdrive/My Drive/Riparian_RNASeqData/Output_fastq_Run1/Rtx6_S6_R2_001.fastq.gz' Rtx6_S6_R2_001.fastq.gz\n",
        "!cp '/content/gdrive/My Drive/Riparian_RNASeqData/Output_fastq_Run1/Rtx7_S7_R1_001.fastq.gz' Rtx7_S7_R1_001.fastq.gz\n",
        "!cp '/content/gdrive/My Drive/Riparian_RNASeqData/Output_fastq_Run1/Rtx7_S7_R2_001.fastq.gz' Rtx7_S7_R2_001.fastq.gz\n",
        "!cp '/content/gdrive/My Drive/Riparian_RNASeqData/Output_fastq_Run1/Rtx8_S8_R1_001.fastq.gz' Rtx8_S8_R1_001.fastq.gz\n",
        "!cp '/content/gdrive/My Drive/Riparian_RNASeqData/Output_fastq_Run1/Rtx8_S8_R2_001.fastq.gz' Rtx8_S8_R2_001.fastq.gz"
      ],
      "metadata": {
        "id": "NfMqlznoMn_d"
      },
      "execution_count": 37,
      "outputs": []
    },
    {
      "cell_type": "code",
      "source": [
        "!cp '/content/gdrive/My Drive/Riparian_RNASeqData/Output_fastq_Run1/Rtx17_S9_R1_001.fastq.gz' Rtx17_S9_R1_001.fastq.gz\n",
        "!cp '/content/gdrive/My Drive/Riparian_RNASeqData/Output_fastq_Run1/Rtx17_S9_R2_001.fastq.gz' Rtx17_S9_R2_001.fastq.gz\n",
        "!cp '/content/gdrive/My Drive/Riparian_RNASeqData/Output_fastq_Run1/Rtx18_S10_R1_001.fastq.gz' Rtx18_S10_R1_001.fastq.gz\n",
        "!cp '/content/gdrive/My Drive/Riparian_RNASeqData/Output_fastq_Run1/Rtx18_S10_R2_001.fastq.gz' Rtx18_S10_R2_001.fastq.gz\n",
        "!cp '/content/gdrive/My Drive/Riparian_RNASeqData/Output_fastq_Run1/Undetermined_S0_R1_001.fastq.gz' Undetermined_S0_R1_001.fastq.gz\n",
        "!cp '/content/gdrive/My Drive/Riparian_RNASeqData/Output_fastq_Run1/Undetermined_S0_R2_001.fastq.gz' Undetermined_S0_R2_001.fastq.gz"
      ],
      "metadata": {
        "id": "SHUANKyvUFF1"
      },
      "execution_count": 38,
      "outputs": []
    },
    {
      "cell_type": "code",
      "source": [
        "%%bash\n",
        "zcat Rtx2_S2_R1_001.fastq.gz | wc -l\n",
        "zcat Rtx2_S2_R2_001.fastq.gz | wc -l"
      ],
      "metadata": {
        "colab": {
          "base_uri": "https://localhost:8080/"
        },
        "id": "unXweMWBUzE5",
        "outputId": "392f3fae-7115-4628-8df1-8fa3c4b0f032"
      },
      "execution_count": 40,
      "outputs": [
        {
          "output_type": "stream",
          "name": "stdout",
          "text": [
            "120958180\n",
            "120958180\n"
          ]
        }
      ]
    },
    {
      "cell_type": "code",
      "source": [
        "120958180 / 4"
      ],
      "metadata": {
        "colab": {
          "base_uri": "https://localhost:8080/"
        },
        "id": "OFRF8mJWZtkA",
        "outputId": "9cb3af02-5ba8-4585-e73d-e1e74b963d39"
      },
      "execution_count": 50,
      "outputs": [
        {
          "output_type": "execute_result",
          "data": {
            "text/plain": [
              "30239545.0"
            ]
          },
          "metadata": {},
          "execution_count": 50
        }
      ]
    },
    {
      "cell_type": "code",
      "source": [
        "%%bash\n",
        "zcat Rtx3_S3_R1_001.fastq.gz | wc -l \n",
        "zcat Rtx3_S3_R2_001.fastq.gz | wc -l "
      ],
      "metadata": {
        "colab": {
          "base_uri": "https://localhost:8080/"
        },
        "id": "45EDAU_5U96R",
        "outputId": "b15bdcf8-9b09-4f62-e94e-d594b11b89a9"
      },
      "execution_count": 44,
      "outputs": [
        {
          "output_type": "stream",
          "name": "stdout",
          "text": [
            "107434168\n",
            "107434168\n"
          ]
        }
      ]
    },
    {
      "cell_type": "code",
      "source": [
        "107434168 / 4"
      ],
      "metadata": {
        "colab": {
          "base_uri": "https://localhost:8080/"
        },
        "id": "N_XpJ-GjZwJ8",
        "outputId": "31fe54f1-312a-49bd-a36c-6c8781c83e10"
      },
      "execution_count": 51,
      "outputs": [
        {
          "output_type": "execute_result",
          "data": {
            "text/plain": [
              "26858542.0"
            ]
          },
          "metadata": {},
          "execution_count": 51
        }
      ]
    },
    {
      "cell_type": "code",
      "source": [
        "%%bash\n",
        "zcat Rtx4_S4_R1_001.fastq.gz | wc -l \n",
        "zcat Rtx4_S4_R2_001.fastq.gz | wc -l "
      ],
      "metadata": {
        "colab": {
          "base_uri": "https://localhost:8080/"
        },
        "id": "tddCAyYxYkty",
        "outputId": "7e507d2c-1faf-43ab-aefd-ce3335ce04aa"
      },
      "execution_count": 45,
      "outputs": [
        {
          "output_type": "stream",
          "name": "stdout",
          "text": [
            "117389960\n",
            "117389960\n"
          ]
        }
      ]
    },
    {
      "cell_type": "code",
      "source": [
        "117389960 / 4"
      ],
      "metadata": {
        "colab": {
          "base_uri": "https://localhost:8080/"
        },
        "id": "oUC9jnbQZylQ",
        "outputId": "f877c806-e564-4912-c085-736f65e2f5bb"
      },
      "execution_count": 52,
      "outputs": [
        {
          "output_type": "execute_result",
          "data": {
            "text/plain": [
              "29347490.0"
            ]
          },
          "metadata": {},
          "execution_count": 52
        }
      ]
    },
    {
      "cell_type": "code",
      "source": [
        "%%bash\n",
        "zcat Rtx5_S5_R1_001.fastq.gz | wc -l \n",
        "zcat Rtx5_S5_R2_001.fastq.gz | wc -l "
      ],
      "metadata": {
        "colab": {
          "base_uri": "https://localhost:8080/"
        },
        "id": "0hpEYWmNYn4e",
        "outputId": "05e8c372-5387-49aa-d241-90e718e12a1a"
      },
      "execution_count": 46,
      "outputs": [
        {
          "output_type": "stream",
          "name": "stdout",
          "text": [
            "119585752\n",
            "119585752\n"
          ]
        }
      ]
    },
    {
      "cell_type": "code",
      "source": [
        "119585752 / 4"
      ],
      "metadata": {
        "colab": {
          "base_uri": "https://localhost:8080/"
        },
        "id": "stR2IVYNZ2fz",
        "outputId": "8197c05c-d207-4248-d057-a3c513b3372a"
      },
      "execution_count": 53,
      "outputs": [
        {
          "output_type": "execute_result",
          "data": {
            "text/plain": [
              "29896438.0"
            ]
          },
          "metadata": {},
          "execution_count": 53
        }
      ]
    },
    {
      "cell_type": "code",
      "source": [
        "%%bash\n",
        "zcat Rtx6_S6_R1_001.fastq.gz | wc -l \n",
        "zcat Rtx6_S6_R2_001.fastq.gz | wc -l "
      ],
      "metadata": {
        "colab": {
          "base_uri": "https://localhost:8080/"
        },
        "id": "og9nImxEYrUs",
        "outputId": "43c8a3fe-781f-4f84-b82f-0abb3a22681c"
      },
      "execution_count": 47,
      "outputs": [
        {
          "output_type": "stream",
          "name": "stdout",
          "text": [
            "122114008\n",
            "122114008\n"
          ]
        }
      ]
    },
    {
      "cell_type": "code",
      "source": [
        "122114008 / 4"
      ],
      "metadata": {
        "colab": {
          "base_uri": "https://localhost:8080/"
        },
        "id": "w1_-2me3Z7C3",
        "outputId": "745d9b9f-9a30-4909-9255-63eb1b8428ea"
      },
      "execution_count": 54,
      "outputs": [
        {
          "output_type": "execute_result",
          "data": {
            "text/plain": [
              "30528502.0"
            ]
          },
          "metadata": {},
          "execution_count": 54
        }
      ]
    },
    {
      "cell_type": "code",
      "source": [
        "%%bash\n",
        "zcat Rtx7_S7_R1_001.fastq.gz | wc -l \n",
        "zcat Rtx7_S7_R2_001.fastq.gz | wc -l "
      ],
      "metadata": {
        "colab": {
          "base_uri": "https://localhost:8080/"
        },
        "id": "TE_jmQLnYtog",
        "outputId": "b9623a22-cea4-4721-d740-076fa620d30a"
      },
      "execution_count": 48,
      "outputs": [
        {
          "output_type": "stream",
          "name": "stdout",
          "text": [
            "106052108\n",
            "106052108\n"
          ]
        }
      ]
    },
    {
      "cell_type": "code",
      "source": [
        "106052108 / 4"
      ],
      "metadata": {
        "colab": {
          "base_uri": "https://localhost:8080/"
        },
        "id": "5AZS7VTcaNoQ",
        "outputId": "f9f6817a-fb31-4cc5-a68a-86d5ef548e36"
      },
      "execution_count": 55,
      "outputs": [
        {
          "output_type": "execute_result",
          "data": {
            "text/plain": [
              "26513027.0"
            ]
          },
          "metadata": {},
          "execution_count": 55
        }
      ]
    },
    {
      "cell_type": "code",
      "source": [
        "%%bash\n",
        "zcat Rtx8_S8_R1_001.fastq.gz | wc -l \n",
        "zcat Rtx8_S8_R2_001.fastq.gz | wc -l "
      ],
      "metadata": {
        "colab": {
          "base_uri": "https://localhost:8080/"
        },
        "id": "LWQMq0w3YwId",
        "outputId": "a5043e54-11ac-47a9-e327-a00eb932f14c"
      },
      "execution_count": 49,
      "outputs": [
        {
          "output_type": "stream",
          "name": "stdout",
          "text": [
            "72925852\n",
            "72925852\n"
          ]
        }
      ]
    },
    {
      "cell_type": "code",
      "source": [
        "72925852 / 4"
      ],
      "metadata": {
        "colab": {
          "base_uri": "https://localhost:8080/"
        },
        "id": "QeaAyykZaefi",
        "outputId": "c180a3df-2f21-4044-fa70-364c8f52c670"
      },
      "execution_count": 56,
      "outputs": [
        {
          "output_type": "execute_result",
          "data": {
            "text/plain": [
              "18231463.0"
            ]
          },
          "metadata": {},
          "execution_count": 56
        }
      ]
    }
  ]
}